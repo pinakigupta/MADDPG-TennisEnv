{
 "cells": [
  {
   "cell_type": "markdown",
   "metadata": {},
   "source": [
    "# Continuous Control\n",
    "\n",
    "---\n",
    "\n",
    "You are welcome to use this coding environment to train your agent for the project.  Follow the instructions below to get started!\n",
    "\n",
    "### 1. Start the Environment\n",
    "\n",
    "Run the next code cell to install a few packages.  This line will take a few minutes to run!"
   ]
  },
  {
   "cell_type": "markdown",
   "metadata": {},
   "source": [
    "The environments corresponding to both versions of the environment are already saved in the Workspace and can be accessed at the file paths provided below.  \n",
    "\n",
    "Please select one of the two options below for loading the environment."
   ]
  },
  {
   "cell_type": "code",
   "execution_count": 1,
   "metadata": {
    "scrolled": true
   },
   "outputs": [
    {
     "name": "stderr",
     "output_type": "stream",
     "text": [
      "INFO:unityagents:\n",
      "'Academy' started successfully!\n",
      "Unity Academy name: Academy\n",
      "        Number of Brains: 1\n",
      "        Number of External Brains : 1\n",
      "        Lesson number : 0\n",
      "        Reset Parameters :\n",
      "\t\t\n",
      "Unity brain name: TennisBrain\n",
      "        Number of Visual Observations (per agent): 0\n",
      "        Vector Observation space type: continuous\n",
      "        Vector Observation space size (per agent): 8\n",
      "        Number of stacked Vector Observation: 3\n",
      "        Vector Action space type: continuous\n",
      "        Vector Action space size (per agent): 2\n",
      "        Vector Action descriptions: , \n"
     ]
    }
   ],
   "source": [
    "from unityagents import UnityEnvironment\n",
    "import numpy as np\n",
    "\n",
    "# select this option to load version 1 (with a single agent) of the environment\n",
    "#env = UnityEnvironment(file_name='Reacher_Linux/Reacher.x86_64',no_graphics=True)\n",
    "\n",
    "# select this option to load version 2 (with 20 agents) of the environment\n",
    "env = UnityEnvironment(file_name='Tennis_Linux/Tennis.x86_64',no_graphics=True)\n"
   ]
  },
  {
   "cell_type": "markdown",
   "metadata": {},
   "source": [
    "Environments contain **_brains_** which are responsible for deciding the actions of their associated agents. Here we check for the first brain available, and set it as the default brain we will be controlling from Python."
   ]
  },
  {
   "cell_type": "code",
   "execution_count": 2,
   "metadata": {},
   "outputs": [
    {
     "name": "stdout",
     "output_type": "stream",
     "text": [
      "TennisBrain\n"
     ]
    }
   ],
   "source": [
    "# get the default brain\n",
    "brain_name = env.brain_names[0]\n",
    "brain = env.brains[brain_name]\n",
    "for brains in env.brain_names:\n",
    "    print(brains)"
   ]
  },
  {
   "cell_type": "markdown",
   "metadata": {},
   "source": [
    "### 2. Examine the State and Action Spaces\n",
    "\n",
    "Run the code cell below to print some information about the environment."
   ]
  },
  {
   "cell_type": "code",
   "execution_count": 3,
   "metadata": {},
   "outputs": [
    {
     "name": "stdout",
     "output_type": "stream",
     "text": [
      "Number of agents: 2\n",
      "Size of each action: 2\n",
      "There are 2 agents. Each observes a state with length: 24\n",
      "The state for the first agent looks like: [ 0.          0.          0.          0.          0.          0.          0.\n",
      "  0.          0.          0.          0.          0.          0.          0.\n",
      "  0.          0.         -6.65278625 -1.5        -0.          0.\n",
      "  6.83172083  6.         -0.          0.        ]\n"
     ]
    }
   ],
   "source": [
    "# reset the environment\n",
    "env_info = env.reset(train_mode=True)[brain_name]\n",
    "\n",
    "# number of agents\n",
    "num_envs = len(env_info.agents)\n",
    "print('Number of agents:', num_envs)\n",
    "\n",
    "# size of each action\n",
    "action_size = brain.vector_action_space_size\n",
    "print('Size of each action:', action_size)\n",
    "\n",
    "# examine the state space \n",
    "states = env_info.vector_observations\n",
    "state_size = states.shape[1]\n",
    "print('There are {} agents. Each observes a state with length: {}'.format(states.shape[0], state_size))\n",
    "print('The state for the first agent looks like:', states[0])"
   ]
  },
  {
   "cell_type": "code",
   "execution_count": 4,
   "metadata": {},
   "outputs": [
    {
     "data": {
      "text/plain": [
       "2"
      ]
     },
     "execution_count": 4,
     "metadata": {},
     "output_type": "execute_result"
    }
   ],
   "source": [
    "len(states)"
   ]
  },
  {
   "cell_type": "markdown",
   "metadata": {},
   "source": [
    "### 3. Loading DDPG Agent\n"
   ]
  },
  {
   "cell_type": "code",
   "execution_count": 5,
   "metadata": {},
   "outputs": [
    {
     "data": {
      "text/plain": [
       "<module 'model' from '/home/pinakigupta/Documents/Courses/deep-reinforcement-learning/DDPG-TennisEnv /model.py'>"
      ]
     },
     "execution_count": 5,
     "metadata": {},
     "output_type": "execute_result"
    }
   ],
   "source": [
    "from importlib import reload \n",
    "from collections import deque\n",
    "import ddpg_agent, maddpg_agent\n",
    "reload(ddpg_agent)\n",
    "reload(maddpg_agent)\n",
    "import torch\n",
    "import torch.nn.functional as F\n",
    "import torch.optim as optim\n",
    "from ddpg_utils import OUNoise, Replay, transpose_to_tensor, Config\n",
    "import model\n",
    "reload(model)\n"
   ]
  },
  {
   "cell_type": "code",
   "execution_count": 6,
   "metadata": {},
   "outputs": [],
   "source": [
    "import matplotlib.pyplot as plt\n",
    "\n",
    "def plot_scores(scores,avg_scores = None):\n",
    "    # plot the scores\n",
    "    fig = plt.figure()\n",
    "    ax = fig.add_subplot(111)\n",
    "    y_label = 'Score'\n",
    "    plt.plot(np.arange(len(scores)), scores)\n",
    "    if avg_scores is not None:\n",
    "        y_label+=', Avg Score'\n",
    "        plt.plot(np.arange(len(scores)), avg_scores)\n",
    "    plt.ylabel(y_label)\n",
    "    plt.xlabel('Episode #')\n",
    "    plt.show()"
   ]
  },
  {
   "cell_type": "code",
   "execution_count": 7,
   "metadata": {},
   "outputs": [],
   "source": [
    "config = Config(seed=6)\n",
    "\n",
    "config.num_agents = len(env_info.agents)\n",
    "config.state_size = state_size\n",
    "config.action_size = action_size\n",
    "\n",
    "config.actor_fn = lambda: model.Actor(config.state_size, config.action_size, 128, 128)\n",
    "config.actor_opt_fn = lambda params: optim.Adam(params, lr=1e-3)\n",
    "\n",
    "config.critic_fn = lambda: model.Critic(config.state_size, config.action_size , config.num_agents, 128, 128)\n",
    "config.critic_opt_fn = lambda params: optim.Adam(params, lr=2e-3)\n",
    "\n",
    "config.replay_fn = lambda: Replay(config.action_size, buffer_size=int(1e6), batch_size=128)\n",
    "config.noise_fn = lambda: OUNoise(config.action_size, mu=0., theta=0.15, sigma=0.1 , seed=config.seed )\n",
    "\n",
    "config.discount = 0.99\n",
    "config.target_mix = 3e-3\n",
    "\n",
    "config.max_episodes = 1500\n",
    "config.max_steps = int(1e6)\n",
    "config.goal_score = 2\n",
    "config.checkpoint_score = 1\n",
    "\n",
    "config.CHECKPOINT_FOLDER = \"MultiAgentCheckPt\""
   ]
  },
  {
   "cell_type": "code",
   "execution_count": 8,
   "metadata": {
    "scrolled": true
   },
   "outputs": [],
   "source": [
    "def train(env = None, agent = None, config = None):\n",
    "    \n",
    "    \n",
    "    scores_deque = deque(maxlen=100)\n",
    "    mean_agent_scores = []\n",
    "    goal_steps = []\n",
    "    mean_mean_agent_scores = []\n",
    "    checkpt_thresh = config.checkpoint_score\n",
    "    for i_episode in range(1, config.max_episodes+1):\n",
    "        env_info = env.reset(train_mode=True)[brain_name] # reset the environment\n",
    "        states = env_info.vector_observations            # get the current state\n",
    "        #agent.reset()\n",
    "        score = np.zeros(num_envs)\n",
    "        while True:\n",
    "            actions = agent.act(states)\n",
    "            env_info = env.step(actions)[brain_name]        # send the action to the environment\n",
    "            next_states = env_info.vector_observations      # get the next states\n",
    "            rewards = env_info.rewards                      # get the reward\n",
    "            dones = env_info.local_done                     # see if episode has finished\n",
    "            agent.step(states, actions, rewards, next_states, dones)\n",
    "            states = next_states\n",
    "            score += rewards\n",
    "            if np.any(dones):\n",
    "                break\n",
    "\n",
    "        #score = score.max()\n",
    "        mean_agent_score = np.mean(score)\n",
    "        mean_agent_scores.append(mean_agent_score)\n",
    "        scores_deque.append(mean_agent_score)\n",
    "        mean_mean_agent_score = np.mean(scores_deque)\n",
    "        mean_mean_agent_scores.append(mean_mean_agent_score)\n",
    "\n",
    "        print('\\rEpisode {}\\tAverage Score: {:.2f}\\tscore: {:.2f}'.\n",
    "              format(i_episode, np.mean(scores_deque), scores_deque[-1]), end=\"\")\n",
    "        \n",
    "        if  mean_mean_agent_score >= checkpt_thresh:\n",
    "            checkpt = \"Episode=\" + str(i_episode) + \"Score=\" + str(mean_mean_agent_score) + config.agentname\n",
    "            print('\\nEnvironment solved in {:d} episodes!\\tAverage Score: {:.2f}'.format(i_episode, np.mean(scores_deque)))\n",
    "            agent.checkpoint(checkpt)\n",
    "            checkpt_thresh *= 1.5\n",
    "\n",
    "        if  mean_mean_agent_score >=config.goal_score:\n",
    "            checkpt = \"Episode\" + str(i_episode) + \"Score=\" + str(mean_mean_agent_score) + config.agentname\n",
    "            print('\\nEnvironment solved in {:d} episodes!\\tAverage Score: {:.2f}'.format(i_episode, np.mean(scores_deque)))\n",
    "            agent.checkpoint(checkpt)\n",
    "            break   \n",
    "    \n",
    "    return mean_agent_scores, mean_mean_agent_scores"
   ]
  },
  {
   "cell_type": "code",
   "execution_count": 9,
   "metadata": {},
   "outputs": [],
   "source": [
    "# MADDPG Agent (has a global critic )\n",
    "config.agentname = \"MADDPG\"\n",
    "maddpg_agent = maddpg_agent.Agent(config=config)"
   ]
  },
  {
   "cell_type": "code",
   "execution_count": 10,
   "metadata": {},
   "outputs": [
    {
     "name": "stderr",
     "output_type": "stream",
     "text": [
      "/home/pinakigupta/anaconda3/envs/UdacityRL/lib/python3.6/site-packages/torch/nn/functional.py:1374: UserWarning: nn.functional.tanh is deprecated. Use torch.tanh instead.\n",
      "  warnings.warn(\"nn.functional.tanh is deprecated. Use torch.tanh instead.\")\n"
     ]
    },
    {
     "name": "stdout",
     "output_type": "stream",
     "text": [
      "Episode 977\tAverage Score: 1.01\tscore: 1.1500\n",
      "Environment solved in 977 episodes!\tAverage Score: 1.01\n",
      "Episode 1016\tAverage Score: 1.51\tscore: 2.55\n",
      "Environment solved in 1016 episodes!\tAverage Score: 1.51\n",
      "Episode 1500\tAverage Score: 0.95\tscore: 0.350"
     ]
    }
   ],
   "source": [
    "maddpg_scores , maddpg_avg_scores  = train( env = env,\n",
    "                                            agent = maddpg_agent,\n",
    "                                            config = config) "
   ]
  },
  {
   "cell_type": "code",
   "execution_count": 11,
   "metadata": {},
   "outputs": [
    {
     "data": {
      "image/png": "[encoded data removed]",
      "text/plain": [
       "<Figure size 432x288 with 1 Axes>"
      ]
     },
     "metadata": {
      "needs_background": "light"
     },
     "output_type": "display_data"
    }
   ],
   "source": [
    "plot_scores(maddpg_scores, maddpg_avg_scores) # random replay scores"
   ]
  },
  {
   "cell_type": "code",
   "execution_count": 12,
   "metadata": {},
   "outputs": [],
   "source": [
    "# DDPG Agent (has a local critic )\n",
    "config.critic_fn = lambda: model.Critic(config.state_size, config.action_size , 1, 128, 128)\n",
    "config.agentname = \"DDPG\"\n",
    "ddpg_agent = ddpg_agent.Agent(config=config)"
   ]
  },
  {
   "cell_type": "code",
   "execution_count": 13,
   "metadata": {},
   "outputs": [
    {
     "name": "stdout",
     "output_type": "stream",
     "text": [
      "Episode 1302\tAverage Score: 1.02\tscore: 2.600\n",
      "Environment solved in 1302 episodes!\tAverage Score: 1.02\n",
      "Episode 1340\tAverage Score: 1.52\tscore: 2.650\n",
      "Environment solved in 1340 episodes!\tAverage Score: 1.52\n",
      "Episode 1500\tAverage Score: 1.47\tscore: 2.600"
     ]
    }
   ],
   "source": [
    "ddpg_scores , ddpg_avg_scores  = train( env = env,\n",
    "                                        agent = ddpg_agent,\n",
    "                                        config = config) "
   ]
  },
  {
   "cell_type": "code",
   "execution_count": 14,
   "metadata": {},
   "outputs": [
    {
     "data": {
      "image/png": "[encoded data removed]",
      "text/plain": [
       "<Figure size 432x288 with 1 Axes>"
      ]
     },
     "metadata": {
      "needs_background": "light"
     },
     "output_type": "display_data"
    }
   ],
   "source": [
    "plot_scores(ddpg_scores, ddpg_avg_scores) # random replay scores"
   ]
  },
  {
   "cell_type": "markdown",
   "metadata": {},
   "source": [
    "When finished, you can close the environment."
   ]
  },
  {
   "cell_type": "code",
   "execution_count": 6,
   "metadata": {},
   "outputs": [],
   "source": [
    "env.close()"
   ]
  }
 ],
 "metadata": {
  "kernelspec": {
   "display_name": "Python 3",
   "language": "python",
   "name": "python3"
  },
  "language_info": {
   "codemirror_mode": {
    "name": "ipython",
    "version": 3
   },
   "file_extension": ".py",
   "mimetype": "text/x-python",
   "name": "python",
   "nbconvert_exporter": "python",
   "pygments_lexer": "ipython3",
   "version": "3.6.9"
  }
 },
 "nbformat": 4,
 "nbformat_minor": 2
}
